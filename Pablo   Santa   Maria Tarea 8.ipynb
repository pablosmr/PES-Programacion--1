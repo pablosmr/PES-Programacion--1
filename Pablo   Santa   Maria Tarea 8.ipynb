{
 "cells": [
  {
   "cell_type": "markdown",
   "metadata": {},
   "source": [
    "# Ejercicio día 8\n",
    "**Programación I**"
   ]
  },
  {
   "cell_type": "markdown",
   "metadata": {},
   "source": [
    "## Ejercicio 1\n",
    "\n",
    "Cree una matriz que contenga ceros. Rellene la mitad de ellos aleatoriamente con unos."
   ]
  },
  {
   "cell_type": "code",
   "execution_count": 15,
   "metadata": {},
   "outputs": [],
   "source": [
    "import numpy as np\n"
   ]
  },
  {
   "cell_type": "code",
   "execution_count": null,
   "metadata": {},
   "outputs": [],
   "source": [
    "a=np.zeros([16]) #se crea una matriz con 16 elementos =0 proveniente de una de 4*4\n",
    "b=np.arange(16) # se crea una amtriz de 16 elementos proveniente de una 4*4\n",
    "c=np.random.choice(b,int(16/2),replace=False) # se elige al azar de una matriz rango b con tamaño 8 , se coloca el replace para que no se puedan agarrar dos veces aleatoriamente el mismo valor\n",
    "a[c]=1 # se asigna 1 a los valores de la matriz c en a tomados al azar\n",
    "a.resize(4,4) # se vuelve a convertir en matriz\n",
    "a"
   ]
  },
  {
   "cell_type": "code",
   "execution_count": null,
   "metadata": {},
   "outputs": [],
   "source": [
    "c"
   ]
  },
  {
   "cell_type": "code",
   "execution_count": null,
   "metadata": {},
   "outputs": [],
   "source": []
  },
  {
   "cell_type": "markdown",
   "metadata": {},
   "source": [
    "## Ejercicio 2\n",
    "Cree dos matrices de dimensiones $(5,2)$. La primera rellena de ceros y la siguiente de unos. \n",
    "1.\tConvierta las matrices en vectores columna. \n",
    "2.\tApile ambos vectores a lo largo de una tercera dimensión. \n",
    "3.\tCon las matrices originales, conviértalas en vectores fila y concaténelos verticalmente. \n",
    "\n"
   ]
  },
  {
   "cell_type": "code",
   "execution_count": null,
   "metadata": {},
   "outputs": [],
   "source": [
    "e=np.zeros([5,2])\n",
    "r=np.ones([5,2])\n",
    "e\n",
    "\n"
   ]
  },
  {
   "cell_type": "code",
   "execution_count": null,
   "metadata": {},
   "outputs": [],
   "source": [
    "r"
   ]
  },
  {
   "cell_type": "code",
   "execution_count": null,
   "metadata": {},
   "outputs": [],
   "source": [
    "#INCISO 1\n",
    "e.reshape((10,1)) # se transforman en vectores columna reordenando la matriz a una columna y varias filas\n",
    "r.reshape((10,1))\n"
   ]
  },
  {
   "cell_type": "code",
   "execution_count": null,
   "metadata": {},
   "outputs": [],
   "source": [
    "#Inciso 2\n",
    "np.dstack((e[:, np.newaxis], r[:, np.newaxis])) # se apilan sobre una nueva dimension en e y r"
   ]
  },
  {
   "cell_type": "code",
   "execution_count": null,
   "metadata": {},
   "outputs": [],
   "source": [
    "#INCISO 3\n",
    "\n",
    "np.vstack((e.reshape(1,10),r.reshape(1,10))) # se apilan de forma vertical los vectores fila"
   ]
  },
  {
   "cell_type": "markdown",
   "metadata": {},
   "source": [
    "## Ejercicio 3\n",
    "\n",
    "Dada la función $f(x,y,z) = 2x +3y + z^2$\n",
    "1.\tGenere una matriz con números aleatorios para cada variable. \n",
    "2.\tEvalúe la matriz anterior en la función. El resultado debe ser una matriz. "
   ]
  },
  {
   "cell_type": "code",
   "execution_count": null,
   "metadata": {},
   "outputs": [],
   "source": [
    "x=np.random.random((3,1))\n",
    "y=np.random.random((3,1))\n",
    "z=np.random.random((3,1))\n",
    "def funcion(x,y,z):\n",
    "    return(2*x+3*y+z**2)\n"
   ]
  },
  {
   "cell_type": "code",
   "execution_count": null,
   "metadata": {},
   "outputs": [],
   "source": [
    "funcion(x,y,z)"
   ]
  },
  {
   "cell_type": "markdown",
   "metadata": {},
   "source": [
    "## Ejercicio 4\n",
    "\n",
    "Suponga que dentro de un cuadrado de lado 50 cm, hay un cuadrado de 20cm. Ambos cuadrados comparten centro. Estime el área del cuadrado interno por método Monte Carlo. [Consulte Aquí]( http://mathonweb.com/entrtain/monte/t_monte.htm)"
   ]
  },
  {
   "cell_type": "code",
   "execution_count": null,
   "metadata": {},
   "outputs": [],
   "source": [
    "y=np.random.randint(0,2,(50,50)) \n",
    "#area a encontrar = area conocida*elementos dentro/elementos totales\n",
    "p=np.count_nonzero(y==1) #total de elementos que tienen 1 en la matriz\n",
    "area_grande=50*50\n",
    "p"
   ]
  },
  {
   "cell_type": "code",
   "execution_count": null,
   "metadata": {},
   "outputs": [],
   "source": [
    "x=y[15:35,15:35] # se delimita la porcion de 20 centimetros del cuadrado\n",
    "x"
   ]
  },
  {
   "cell_type": "code",
   "execution_count": null,
   "metadata": {
    "scrolled": true
   },
   "outputs": [],
   "source": [
    "b=x>0\n",
    "b"
   ]
  },
  {
   "cell_type": "code",
   "execution_count": null,
   "metadata": {},
   "outputs": [],
   "source": [
    "t=x[b]\n",
    "t\n",
    "area_pequeña=((np.count_nonzero(t==1)*area_grande))/p #se aproxima el area con la proporcion de areas y cantidad de unos en ambos cuadrados\n",
    "area_pequeña"
   ]
  },
  {
   "cell_type": "code",
   "execution_count": null,
   "metadata": {},
   "outputs": [],
   "source": [
    "np.count_nonzero(t==1)"
   ]
  },
  {
   "cell_type": "markdown",
   "metadata": {},
   "source": [
    "## Ejercicio 5\n",
    "\n",
    "### *Tarea*\n",
    "\n",
    "1. De las siguientes secciones, escoger 73 funciones de NumPy y mostrar su utilización en un ejemplo.\n",
    "\n",
    "    - [Array creation routines](https://numpy.org/devdocs/reference/routines.array-creation.html)\n",
    "\n",
    "    - [Array manipulation routines](https://numpy.org/devdocs/reference/routines.array-manipulation.html)\n",
    "\n",
    "    - [Binary operations](https://numpy.org/devdocs/reference/routines.bitwise.html)\n",
    "\n",
    "    - [String operations](https://numpy.org/devdocs/reference/routines.char.html)\n",
    "    \n",
    "\n",
    "2. Crear un ejemplo de cómo guardar y cargar arreglos de un archivo binario `.npy` y `.npz`:\n",
    "\n",
    "    - [NumPy binary files (NPY, NPZ)](https://numpy.org/devdocs/reference/routines.io.html#numpy-binary-files-npy-npz)\n",
    "    \n",
    "3. Crear un ejemplo de cómo guardar y cargar arreglos de un archivo de texto `.txt`:\n",
    "\n",
    "    - [NumPy Text files](https://numpy.org/devdocs/reference/routines.io.html#text-files)    \n",
    "    \n",
    "4. Crear una función llamada `estimacionMCO` que lea un archivo CSV con 7 columnas, que corresponden a las variables $(x_{1i}, \\ldots, x_{6i})$ y $y_i$. \n",
    "    - La función debe computar matricialmente los parámetros del modelo de regresión lineal: $y = X\\beta$. \n",
    "    - Estos parámetros deben ser devueltos como un arreglo de NumPy. \n",
    "\n",
    "    - Utilice la función de lectura de archivos de NumPy."
   ]
  },
  {
   "cell_type": "code",
   "execution_count": null,
   "metadata": {},
   "outputs": [],
   "source": [
    "#ARRAY CREATION ROUTINES\n",
    "np.identity(2) # devuelve una matriz identidad de n elementos"
   ]
  },
  {
   "cell_type": "code",
   "execution_count": null,
   "metadata": {},
   "outputs": [],
   "source": [
    "np.eye(3) # devuelve una matriz de dimensiones n de 2dimensiones con uno en las diagonales y zeros en lo demas"
   ]
  },
  {
   "cell_type": "code",
   "execution_count": null,
   "metadata": {},
   "outputs": [],
   "source": [
    "np.ones((3,3),dtype=int) # devuelve un arreglo de 1 con las dimensiones especificadas  y los tipos especificados"
   ]
  },
  {
   "cell_type": "code",
   "execution_count": null,
   "metadata": {},
   "outputs": [],
   "source": [
    "np.zeros((5,5),dtype=int) # devuelve una matriz de ceros con las dimensiones y tipos especificados"
   ]
  },
  {
   "cell_type": "code",
   "execution_count": null,
   "metadata": {},
   "outputs": [],
   "source": [
    "x=np.arange(6)\n",
    "np.zeros_like(x) # devuelve una matriz de ceros identica a una que especifiquemos"
   ]
  },
  {
   "cell_type": "code",
   "execution_count": null,
   "metadata": {},
   "outputs": [],
   "source": [
    "np.full((5,5),\"hola\") # regresa una matriz de dimension especificada con un valor dado"
   ]
  },
  {
   "cell_type": "code",
   "execution_count": null,
   "metadata": {},
   "outputs": [],
   "source": [
    "r=np.array([1,2,3])\n",
    "r\n",
    "np.full_like(r,(1)) #devuelve un arreglo con un valor dado en la misma forma que una especificada"
   ]
  },
  {
   "cell_type": "code",
   "execution_count": null,
   "metadata": {},
   "outputs": [],
   "source": [
    "np.array([[1,2],[2,3]]) #crea un arreglo "
   ]
  },
  {
   "cell_type": "code",
   "execution_count": null,
   "metadata": {},
   "outputs": [],
   "source": [
    "np.asarray(\"holas\") #convertir lo ingresado como arreglo"
   ]
  },
  {
   "cell_type": "code",
   "execution_count": null,
   "metadata": {},
   "outputs": [],
   "source": [
    "x=np.asmatrix([[1,2,3,4],[3,7,8,9]])\n",
    "x[0,1]        #convertir el input como una matriz\n",
    "    "
   ]
  },
  {
   "cell_type": "code",
   "execution_count": null,
   "metadata": {},
   "outputs": [],
   "source": [
    "np.copy(x) #devuelve una copia del  arreglo especificado"
   ]
  },
  {
   "cell_type": "code",
   "execution_count": null,
   "metadata": {},
   "outputs": [],
   "source": [
    "\n",
    "np.fromstring('1,2',dtype=int,sep=',')# una nuevo arreglo proveniente de un string"
   ]
  },
  {
   "cell_type": "code",
   "execution_count": null,
   "metadata": {},
   "outputs": [],
   "source": [
    "x=np.array([1,2,3,4])\n",
    "y=np.array(['a','bn','e','y'])\n",
    "z=np.array([1.3,4,5,6])\n",
    "l=np.core.records.fromarrays([x,y,z],names='a,b,c')\n",
    "print(l)\n",
    "type(l) # crea un tipo de arreglo de varios objetos , debe ser las misma dimension"
   ]
  },
  {
   "cell_type": "code",
   "execution_count": null,
   "metadata": {},
   "outputs": [],
   "source": [
    "t=np.core.records.fromrecords([('hola','adios'),('jorge','juan')],names='a1,a2')\n",
    "t.a1\n",
    "t.a2 #crea un tipo de arreglo con los objetos especificados"
   ]
  },
  {
   "cell_type": "code",
   "execution_count": null,
   "metadata": {},
   "outputs": [],
   "source": [
    "np.arange(1,5) # devuelve valores espaciados de la misma manera en un intervalo"
   ]
  },
  {
   "cell_type": "code",
   "execution_count": null,
   "metadata": {},
   "outputs": [],
   "source": [
    "np.linspace(0,20,5) # devuelve numeros dentro de un rango con espaciamiento identico entre ellos"
   ]
  },
  {
   "cell_type": "code",
   "execution_count": null,
   "metadata": {},
   "outputs": [],
   "source": [
    "np.logspace(1,100,10) # regresa numeros con espaciamiento identico aplicado a logarimos"
   ]
  },
  {
   "cell_type": "code",
   "execution_count": null,
   "metadata": {},
   "outputs": [],
   "source": [
    "np.geomspace(1,100,10) # devuelve una progresion geometrica"
   ]
  },
  {
   "cell_type": "code",
   "execution_count": null,
   "metadata": {},
   "outputs": [],
   "source": [
    " nx, ny = (3, 2)\n",
    " x = np.linspace(0, 1, nx)\n",
    " y = np.linspace(0, 1, ny)\n",
    " xv, yv = np.meshgrid(x, y) # devuelve una matriz de coordenadas apartir de un vector\n",
    " xv\n"
   ]
  },
  {
   "cell_type": "code",
   "execution_count": null,
   "metadata": {},
   "outputs": [],
   "source": [
    "x=np.arange(9).reshape((3,3))\n",
    "x\n",
    "np.diag(x) # regresa la diagonal de una matriz especificando un valor k que va desde -1 hasta el rango de la matriz"
   ]
  },
  {
   "cell_type": "code",
   "execution_count": null,
   "metadata": {},
   "outputs": [],
   "source": [
    "x=np.arange(10).reshape(5,2)\n",
    "np.diagflat(x,k=4) # regresa una diagonal especificando su posicion con k y regresa el rango en la diagonal"
   ]
  },
  {
   "cell_type": "code",
   "execution_count": null,
   "metadata": {},
   "outputs": [],
   "source": [
    "x=np.arange(10).reshape(5,2)\n",
    "\n",
    "np.tri(5,5,k=1) # crea una matriz con unos en y bajo la diagonal segun la posicion k especificada y devuelve ceros sobre ella"
   ]
  },
  {
   "cell_type": "code",
   "execution_count": null,
   "metadata": {},
   "outputs": [],
   "source": [
    "x=np.arange(10)\n",
    "np.tril(x,k=2) # devuelve una diagonal con el rango del arreglo especificado en la posicion especificada el triangulo inferior"
   ]
  },
  {
   "cell_type": "code",
   "execution_count": null,
   "metadata": {},
   "outputs": [],
   "source": [
    "x=np.arange(10)\n",
    "np.triu(x,k=4) # devuelve la parte superior del triangulo en la matriz en la posicion especificada"
   ]
  },
  {
   "cell_type": "code",
   "execution_count": null,
   "metadata": {},
   "outputs": [],
   "source": [
    "x=np.arange(10)\n",
    "np.vander(x) # devuelve una matriz de vander , los ordena y los suma"
   ]
  },
  {
   "cell_type": "code",
   "execution_count": null,
   "metadata": {},
   "outputs": [],
   "source": [
    "x=np.arange(10)\n",
    "np.mat(x) # interpreta el output como una matriz\n",
    "x[3]\n",
    "x"
   ]
  },
  {
   "cell_type": "code",
   "execution_count": null,
   "metadata": {},
   "outputs": [],
   "source": [
    "A = np.mat('1 1; 1 1')\n",
    "B = np.mat('2 2; 2 2')\n",
    "np.bmat([[A], [B]]) #crea una matriz a partir de un bloque de strings"
   ]
  },
  {
   "cell_type": "code",
   "execution_count": null,
   "metadata": {},
   "outputs": [],
   "source": [
    "r=np.array(9)\n",
    "y=r\n",
    "h=np.copyto(r,t)\n",
    "# copia los valores de un arreglo a otro"
   ]
  },
  {
   "cell_type": "code",
   "execution_count": null,
   "metadata": {},
   "outputs": [],
   "source": [
    "r=np.array(9)\n",
    "np.shape(r) #regresa la forma de un arreglo"
   ]
  },
  {
   "cell_type": "code",
   "execution_count": null,
   "metadata": {},
   "outputs": [],
   "source": [
    "r=np.arange(9)\n",
    "r.reshape(3,3) # cambia la estructura de un arreglo sin modificar sus datos"
   ]
  },
  {
   "cell_type": "code",
   "execution_count": null,
   "metadata": {},
   "outputs": [],
   "source": [
    "r=np.array([[1,2,3,4],[4,5,6,7]])\n",
    "np.ravel(r,order='c')\n",
    "#r.flatten() # devueve un arreglo tipo flattended continuo"
   ]
  },
  {
   "cell_type": "code",
   "execution_count": null,
   "metadata": {},
   "outputs": [],
   "source": [
    "r=np.arange(9)\n",
    "\n",
    "l=np.moveaxis(r,0,-1)\n",
    "l#mueve los ejes de un un arreglo a otra posicion indicada dejando todo los demas igual"
   ]
  },
  {
   "cell_type": "code",
   "execution_count": null,
   "metadata": {},
   "outputs": [],
   "source": [
    "t=np.array([[1,2,3],[4,5,6]]) # transpone los elementows de un arreglo"
   ]
  },
  {
   "cell_type": "code",
   "execution_count": null,
   "metadata": {},
   "outputs": [],
   "source": [
    "np.transpose(t)"
   ]
  },
  {
   "cell_type": "code",
   "execution_count": null,
   "metadata": {},
   "outputs": [],
   "source": [
    "np.atleast_1d(t) # Convierte el input a un arreglo de almenos una dimension"
   ]
  },
  {
   "cell_type": "code",
   "execution_count": null,
   "metadata": {},
   "outputs": [],
   "source": [
    "np.atleast_2d(t) # Convierte el input a un arreglo de almenos dos dimension"
   ]
  },
  {
   "cell_type": "code",
   "execution_count": null,
   "metadata": {},
   "outputs": [],
   "source": [
    "np.atleast_3d(t) # convierte input en 3 dimensiones"
   ]
  },
  {
   "cell_type": "code",
   "execution_count": null,
   "metadata": {},
   "outputs": [],
   "source": [
    "x=np.array([[1,2,3],[4,5,6]])\n",
    "y=np.array([[1],[4]]) # broadcasting suma dos vectores\n",
    "x+y "
   ]
  },
  {
   "cell_type": "code",
   "execution_count": null,
   "metadata": {},
   "outputs": [],
   "source": [
    "x=np.array([1,2,3])\n",
    "np.broadcast_to(x,(5,3)) # coloca un arreglo en una nueva forma"
   ]
  },
  {
   "cell_type": "code",
   "execution_count": null,
   "metadata": {},
   "outputs": [],
   "source": [
    "x = np.array([[1,2,3]])\n",
    "y = np.array([[4],[5]])\n",
    "np.broadcast_arrays(x, y) # hace el broadcast de cualquier numero de arreglos"
   ]
  },
  {
   "cell_type": "code",
   "execution_count": null,
   "metadata": {},
   "outputs": [],
   "source": [
    "x = np.array([[1,2,3,4,5]])\n",
    "np.expand_dims(x,2) #expande la forma de cualquier arreglo"
   ]
  },
  {
   "cell_type": "code",
   "execution_count": null,
   "metadata": {},
   "outputs": [],
   "source": [
    "a = np.array([[1, 2], [3, 4]])\n",
    "b = np.array([[5, 6],[1,2]])\n",
    "np.concatenate((a, b), axis=0)\n",
    "# concatena una secuencia de arreglos alrededor de un eje"
   ]
  },
  {
   "cell_type": "code",
   "execution_count": null,
   "metadata": {},
   "outputs": [],
   "source": [
    "a = np.array([[1, 2], [3, 4]])\n",
    "b = np.array([[5, 6],[1,2]])\n",
    "np.stack((a,b),axis=1) # une una secuencia de arreglos alrededor de un eje"
   ]
  },
  {
   "cell_type": "code",
   "execution_count": null,
   "metadata": {},
   "outputs": [],
   "source": [
    "a = np.array([[1, 2], [3, 4]])\n",
    "b = np.array([[5, 6],[1,2]])\n",
    "np.column_stack((a,b)) # pone arreglos 1d en arreglos de columnas 2d"
   ]
  },
  {
   "cell_type": "code",
   "execution_count": null,
   "metadata": {},
   "outputs": [],
   "source": [
    "a = np.array([[1, 2], [3, 4]])\n",
    "b = np.array([[5, 6],[1,2]])\n",
    "np.dstack((a,b)) #pone los arreglos en orden  a lo largo del tercer eje"
   ]
  },
  {
   "cell_type": "code",
   "execution_count": null,
   "metadata": {},
   "outputs": [],
   "source": [
    "a = np.array([[1, 2], [3, 4]])\n",
    "b = np.array([[5, 6],[1,2]])\n",
    "np.hstack((a,b))"
   ]
  },
  {
   "cell_type": "code",
   "execution_count": null,
   "metadata": {},
   "outputs": [],
   "source": [
    "a = np.array([[1, 2], [3, 4]])\n",
    "b = np.array([[5, 6],[1,2]])\n",
    "np.vstack((a,b)) # pone la secuencia verticalmente"
   ]
  },
  {
   "cell_type": "code",
   "execution_count": null,
   "metadata": {},
   "outputs": [],
   "source": [
    "np.block([[1,2],[3,4]]) # convierte un bloque en un arreglo"
   ]
  },
  {
   "cell_type": "code",
   "execution_count": null,
   "metadata": {},
   "outputs": [],
   "source": [
    "a = np.array([[1, 2], [3, 4]])\n",
    "np.split(a,2) # divide un arreglo en diferentes numeros especificados"
   ]
  },
  {
   "cell_type": "code",
   "execution_count": null,
   "metadata": {},
   "outputs": [],
   "source": [
    "x=np.arange(8)\n",
    "np.array_split(x,3) # divide un arreglo dentro de una cantidad especificadas"
   ]
  },
  {
   "cell_type": "code",
   "execution_count": null,
   "metadata": {},
   "outputs": [],
   "source": [
    "x=np.arange(8).reshape(4,2)\n",
    "np.hsplit(x,2) "
   ]
  },
  {
   "cell_type": "code",
   "execution_count": null,
   "metadata": {},
   "outputs": [],
   "source": [
    "x=np.arange(8).reshape(4,2)\n",
    "np.vsplit(x,2) "
   ]
  },
  {
   "cell_type": "code",
   "execution_count": null,
   "metadata": {},
   "outputs": [],
   "source": [
    "A=(\"hola\")\n",
    "np.tile(A,4) # repite el numero de veces indicado un objeto y lo vuelve un arreglo"
   ]
  },
  {
   "cell_type": "code",
   "execution_count": null,
   "metadata": {},
   "outputs": [],
   "source": [
    "\n",
    "np.repeat(3,4) # repite un elemento el numero de veces indicados\n",
    "         "
   ]
  },
  {
   "cell_type": "code",
   "execution_count": null,
   "metadata": {},
   "outputs": [],
   "source": [
    "L = np.array([[1,2,3,4], [5,6,7,8], [9,10,11,12]])\n",
    "L\n",
    "np.delete(L,1,0) # borra el elemento de un arreglo de un indice especificado 0 para fila y 1 para columna"
   ]
  },
  {
   "cell_type": "code",
   "execution_count": null,
   "metadata": {},
   "outputs": [],
   "source": [
    "L = np.array([[1,2,3,4], [5,6,7,8], [9,10,11,12]])\n",
    "np.insert(L,1,4,axis=0)  # inserta los argumentos alrededor del eje especificado"
   ]
  },
  {
   "cell_type": "code",
   "execution_count": null,
   "metadata": {},
   "outputs": [],
   "source": [
    "np.append([[1, 2, 3], [4, 5, 6]], [[7, 8, 9]], axis=0)\n",
    "# crea un arreglo en el eje especificado de varios objetos"
   ]
  },
  {
   "cell_type": "code",
   "execution_count": null,
   "metadata": {},
   "outputs": [],
   "source": [
    "a=np.array([[0,1],[2,3]])\n",
    "np.resize(a,(2,5)) #regresa un nuevo arreglo con la forma especificada"
   ]
  },
  {
   "cell_type": "code",
   "execution_count": null,
   "metadata": {},
   "outputs": [],
   "source": [
    "a = np.array((0, 0, 0, 1, 2, 3, 0, 2, 1, 0))\n",
    "np.trim_zeros(a,'fb') # elimina los ceros de un arreglo\n"
   ]
  },
  {
   "cell_type": "code",
   "execution_count": null,
   "metadata": {},
   "outputs": [],
   "source": [
    "r=np.array([[1,4,5,6],[4,7,8,9,0]])\n",
    "np.unique(r) # devuelve los valores unicos de un arreglo"
   ]
  },
  {
   "cell_type": "code",
   "execution_count": null,
   "metadata": {},
   "outputs": [],
   "source": [
    "r=np.array([[1,4,5,6],[4,7,8,9,0]])\n",
    "np.flip(r) #en el eje especificado se voltean los elementos del arreglo"
   ]
  },
  {
   "cell_type": "code",
   "execution_count": null,
   "metadata": {},
   "outputs": [],
   "source": [
    "A=np.arange(10).reshape(5,2)\n",
    "np.fliplr(A) # Reverse de izquierda a derecha del arreglo"
   ]
  },
  {
   "cell_type": "code",
   "execution_count": null,
   "metadata": {},
   "outputs": [],
   "source": [
    "A=np.arange(10).reshape(5,2)\n",
    "np.flipud(A) # Reverse del arreglo de arriba hacia abajo"
   ]
  },
  {
   "cell_type": "code",
   "execution_count": null,
   "metadata": {},
   "outputs": [],
   "source": [
    "A=np.arange(10).reshape(5,2)\n",
    "A # Reshape cambia el arreglo a la forma especificada"
   ]
  },
  {
   "cell_type": "code",
   "execution_count": null,
   "metadata": {},
   "outputs": [],
   "source": [
    "x = np.arange(10)\n",
    "np.roll(x, 2)\n",
    "# el arreglo se cambiado desde las posiciones que se indican y se ponen al inicio"
   ]
  },
  {
   "cell_type": "code",
   "execution_count": null,
   "metadata": {},
   "outputs": [],
   "source": [
    " m = np.array([[1,2],[3,4]], int)\n",
    "np.rot90(m)\n",
    "#rota 90 grados el arreglo"
   ]
  },
  {
   "cell_type": "code",
   "execution_count": null,
   "metadata": {},
   "outputs": [],
   "source": [
    "np.binary_repr(8) #devuelve la representacion binaria de un numero"
   ]
  },
  {
   "cell_type": "code",
   "execution_count": null,
   "metadata": {},
   "outputs": [],
   "source": [
    "np.base_repr(5) # retorna un string representando el numero dado en la base del sistema"
   ]
  },
  {
   "cell_type": "code",
   "execution_count": null,
   "metadata": {},
   "outputs": [],
   "source": [
    " x = np.invert(np.array(13, dtype=np.uint8))\n",
    "\n",
    "\n"
   ]
  },
  {
   "cell_type": "code",
   "execution_count": null,
   "metadata": {},
   "outputs": [],
   "source": [
    " np.left_shift(5, 2)\n"
   ]
  },
  {
   "cell_type": "code",
   "execution_count": null,
   "metadata": {},
   "outputs": [],
   "source": [
    "\n",
    "np.left_shift(5, 2)\n"
   ]
  },
  {
   "cell_type": "code",
   "execution_count": null,
   "metadata": {},
   "outputs": [],
   "source": [
    "x1=\"hola\"\n",
    "x2=\"mundo\"\n",
    "np.char.add(x1,x2) #concatena una cadena de texto\n"
   ]
  },
  {
   "cell_type": "code",
   "execution_count": null,
   "metadata": {},
   "outputs": [],
   "source": [
    "np.char.multiply(x1,5) # devuelve n veces la cadena de texto especificada"
   ]
  },
  {
   "cell_type": "code",
   "execution_count": null,
   "metadata": {},
   "outputs": [],
   "source": [
    "np.char.capitalize(x1) # convierte en mayuscula la primera letra "
   ]
  },
  {
   "cell_type": "code",
   "execution_count": null,
   "metadata": {},
   "outputs": [],
   "source": [
    "np.char.lower(x1) # cambia todas las letras a minusculas"
   ]
  },
  {
   "cell_type": "markdown",
   "metadata": {},
   "source": [
    "## INCISO 2"
   ]
  },
  {
   "cell_type": "code",
   "execution_count": null,
   "metadata": {},
   "outputs": [],
   "source": [
    "\n",
    "x = np.random.random((10,10))\n",
    "y = np.arange(1,10,2)\n",
    "\n",
    "np.savez('Doc.bin', objA = x, objB = y)"
   ]
  },
  {
   "cell_type": "code",
   "execution_count": null,
   "metadata": {},
   "outputs": [],
   "source": [
    "p = np.load('Doc.bin.npz')"
   ]
  },
  {
   "cell_type": "code",
   "execution_count": null,
   "metadata": {},
   "outputs": [],
   "source": [
    "p['objA']"
   ]
  },
  {
   "cell_type": "code",
   "execution_count": null,
   "metadata": {},
   "outputs": [],
   "source": [
    "p['objB']"
   ]
  },
  {
   "cell_type": "markdown",
   "metadata": {},
   "source": [
    "## INCISO 3"
   ]
  },
  {
   "cell_type": "code",
   "execution_count": null,
   "metadata": {},
   "outputs": [],
   "source": [
    "\n",
    "x = np.random.random((10,10))\n",
    "y = np.arange(1,10,2)\n",
    "\n",
    "np.savetxt('Doc.out',b,delimiter=',')"
   ]
  },
  {
   "cell_type": "code",
   "execution_count": null,
   "metadata": {},
   "outputs": [],
   "source": [
    "np.loadtxt('Doc.out',delimiter=',')"
   ]
  },
  {
   "cell_type": "markdown",
   "metadata": {},
   "source": [
    "## INCISO 4"
   ]
  },
  {
   "cell_type": "code",
   "execution_count": 43,
   "metadata": {},
   "outputs": [],
   "source": [
    "def estimacionMCO():\n",
    "    import csv\n",
    "    import numpy as np\n",
    "    data=np.loadtxt('mco_prueba.csv',delimiter=',',skiprows=1)\n",
    "    return(data)"
   ]
  },
  {
   "cell_type": "code",
   "execution_count": 44,
   "metadata": {},
   "outputs": [
    {
     "data": {
      "text/plain": [
       "array([[30., 92., 19., 20., 95., 23., 58.],\n",
       "       [60., 29., 39., 81., 59., 52., 80.],\n",
       "       [10., 26., 81., 66., 37., 98., 37.],\n",
       "       [82., 19., 16.,  7., 78., 35.,  0.],\n",
       "       [99., 58., 53., 80., 45., 80., 89.],\n",
       "       [37., 70., 86.,  6.,  5., 75., 64.],\n",
       "       [ 0., 63., 43., 42., 11., 65., 35.],\n",
       "       [43., 82., 94.,  7., 39., 92., 94.],\n",
       "       [53., 47., 31., 31., 51.,  6., 80.],\n",
       "       [75., 33., 15., 71., 13., 50., 93.],\n",
       "       [33., 74.,  6., 19., 46., 97., 79.],\n",
       "       [35., 24., 44., 88., 73., 45., 32.],\n",
       "       [25.,  6., 56., 39., 19., 86., 87.],\n",
       "       [29., 96., 71., 32., 49.,  4., 72.],\n",
       "       [35., 56., 57., 94., 68., 85.,  2.],\n",
       "       [22., 95.,  2., 83., 10.,  0., 23.],\n",
       "       [85.,  6., 74., 74., 52., 87., 63.],\n",
       "       [86., 46., 70., 50., 49., 48., 41.],\n",
       "       [37., 59., 52.,  4., 92., 38., 62.],\n",
       "       [92., 98., 97., 58., 53., 59., 29.],\n",
       "       [47.,  3., 63., 53., 30., 64., 58.],\n",
       "       [89., 29., 52.,  1., 45., 54.,  6.],\n",
       "       [81., 53., 48., 28., 34., 69., 16.],\n",
       "       [68., 66., 61.,  0., 25., 28., 41.],\n",
       "       [85., 23.,  2., 19., 17., 39.,  7.],\n",
       "       [64., 11., 74., 62., 31., 48., 14.],\n",
       "       [54., 40., 82., 78., 92., 19., 88.],\n",
       "       [39.,  1., 20., 26., 49., 93., 61.],\n",
       "       [82., 67., 46., 79.,  5., 38., 29.],\n",
       "       [35., 86., 80., 69., 46., 18., 66.],\n",
       "       [35., 90., 33., 54., 93.,  9., 10.],\n",
       "       [19., 77., 50., 23., 84., 46., 99.],\n",
       "       [95., 60.,  4.,  2., 60., 52., 39.]])"
      ]
     },
     "execution_count": 44,
     "metadata": {},
     "output_type": "execute_result"
    }
   ],
   "source": [
    "r=estimacionMCO()\n",
    "r    \n",
    "    \n",
    "        \n",
    "        "
   ]
  },
  {
   "cell_type": "code",
   "execution_count": 45,
   "metadata": {},
   "outputs": [],
   "source": [
    "matrizx=r[:,0:6] #xtx todo inverso *xtransp *y\n",
    "matrizx\n",
    "matrizy=r[:,6:7]"
   ]
  },
  {
   "cell_type": "code",
   "execution_count": 46,
   "metadata": {},
   "outputs": [
    {
     "data": {
      "text/plain": [
       "array([[58.],\n",
       "       [80.],\n",
       "       [37.],\n",
       "       [ 0.],\n",
       "       [89.],\n",
       "       [64.],\n",
       "       [35.],\n",
       "       [94.],\n",
       "       [80.],\n",
       "       [93.],\n",
       "       [79.],\n",
       "       [32.],\n",
       "       [87.],\n",
       "       [72.],\n",
       "       [ 2.],\n",
       "       [23.],\n",
       "       [63.],\n",
       "       [41.],\n",
       "       [62.],\n",
       "       [29.],\n",
       "       [58.],\n",
       "       [ 6.],\n",
       "       [16.],\n",
       "       [41.],\n",
       "       [ 7.],\n",
       "       [14.],\n",
       "       [88.],\n",
       "       [61.],\n",
       "       [29.],\n",
       "       [66.],\n",
       "       [10.],\n",
       "       [99.],\n",
       "       [39.]])"
      ]
     },
     "execution_count": 46,
     "metadata": {},
     "output_type": "execute_result"
    }
   ],
   "source": [
    "matrizy"
   ]
  },
  {
   "cell_type": "code",
   "execution_count": 47,
   "metadata": {},
   "outputs": [
    {
     "data": {
      "text/plain": [
       "array([[-0.06441992],\n",
       "       [ 0.2372137 ],\n",
       "       [ 0.18383896],\n",
       "       [ 0.0734313 ],\n",
       "       [ 0.21289056],\n",
       "       [ 0.34480412]])"
      ]
     },
     "execution_count": 47,
     "metadata": {},
     "output_type": "execute_result"
    }
   ],
   "source": [
    "A=matrizx.T@matrizx\n",
    "B=np.linalg.inv(A)\n",
    "C=matrizx.T@matrizy\n",
    "MatrizBeta=B@C\n",
    "MatrizBeta"
   ]
  }
 ],
 "metadata": {
  "kernelspec": {
   "display_name": "Python 3",
   "language": "python",
   "name": "python3"
  },
  "language_info": {
   "codemirror_mode": {
    "name": "ipython",
    "version": 3
   },
   "file_extension": ".py",
   "mimetype": "text/x-python",
   "name": "python",
   "nbconvert_exporter": "python",
   "pygments_lexer": "ipython3",
   "version": "3.7.4"
  }
 },
 "nbformat": 4,
 "nbformat_minor": 2
}
