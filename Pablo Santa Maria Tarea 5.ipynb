{
 "cells": [
  {
   "cell_type": "markdown",
   "metadata": {},
   "source": [
    "# Tarea #6\n",
    "**Programacion I**\n",
    "**Pablo Santa Maria**"
   ]
  },
  {
   "cell_type": "markdown",
   "metadata": {},
   "source": [
    "## Ejercicio 1\n",
    "\n",
    "Ejecute el siguiente programa y explique su procedimiento y el porqué del resultado. "
   ]
  },
  {
   "cell_type": "code",
   "execution_count": null,
   "metadata": {},
   "outputs": [],
   "source": [
    "def Recusion(f):\n",
    "    f(f)\n",
    "    \n",
    "Recusion(Recusion)"
   ]
  },
  {
   "cell_type": "code",
   "execution_count": null,
   "metadata": {},
   "outputs": [],
   "source": [
    "Se crea un bucle en el proceso ya que se valua f dentro de la funcion y vuelve a entrar a una nueva... hasta que alcanza el nivel maximo de recursion."
   ]
  },
  {
   "cell_type": "markdown",
   "metadata": {},
   "source": [
    "## Ejercicio 2\n",
    "\n",
    "Vea el siguiente vídeo: <https://www.youtube.com/watch?v=qxRW5pDT2o4>  \n",
    "\n",
    "Complete el código siguiente para encontrar el máximo común divisor dado dos números enteros. \n",
    "\n",
    "Las condiciones básicas, son:"
   ]
  },
  {
   "cell_type": "markdown",
   "metadata": {},
   "source": [
    "Para dos números $a$ y $b$, tal que $b\\leq a$:\n",
    "* $mcd(a,0) = a$\n",
    "* Si $b\\vert a$ (divida enteramente), entonces $mcd(a,b)=b$\n",
    "* En otro caso, $mcd(a,b) = mcd(b,a \\,mod \\, b)$\n",
    "\n"
   ]
  },
  {
   "cell_type": "code",
   "execution_count": null,
   "metadata": {},
   "outputs": [],
   "source": [
    "def mcd(a,b):\n",
    "    '''Donde a >= b'''\n",
    "    if a % b =0\n",
    "        return b\n",
    "    elif b==0\n",
    "       return a \n",
    "    else:\n",
    "        return mcd(b,a%b)\n",
    "    "
   ]
  },
  {
   "cell_type": "markdown",
   "metadata": {},
   "source": [
    "## Ejercicio 3\n",
    "\n",
    "Implemente un algoritmo recursivo para obtener la parte entera de la división entre dos números enteros. (Pista: Asocie con la resta)."
   ]
  },
  {
   "cell_type": "code",
   "execution_count": null,
   "metadata": {},
   "outputs": [],
   "source": [
    "def division(x,y):\n",
    "    # donde b tiene que ser mayor o igual a \n",
    "  \n",
    "    if x-y==0: #caso cuando la division es exacta\n",
    "        return 1\n",
    "      \n",
    "    elif x-y < y: # el numero todavia puede entrar mas veces en el mas grande\n",
    "        \n",
    "        return(1)\n",
    "    else:\n",
    "        return(1+division((x-y),y))# se hace un proceso recursivo hasta que se cumpla el segundo elif\n",
    "        \n",
    "        \n",
    "        \n",
    "     \n",
    "   \n",
    "        "
   ]
  },
  {
   "cell_type": "code",
   "execution_count": null,
   "metadata": {},
   "outputs": [],
   "source": [
    "division(37,5)\n"
   ]
  },
  {
   "cell_type": "markdown",
   "metadata": {},
   "source": [
    "# Ejercicio 4\n",
    "\n",
    "En el ejemplo de clase (Coordinate), modifique el método constructor para que verifique que los argumentos $x$ y $y$ sean flotantes.  "
   ]
  },
  {
   "cell_type": "code",
   "execution_count": null,
   "metadata": {},
   "outputs": [],
   "source": [
    "class Coordinate(object):\n",
    "    \n",
    "    #metodo constructor\n",
    "    def __init__(self,x,y):\n",
    "        # Como queremos inicializar el objeto?\n",
    "        self.x=float(x)\n",
    "        self.y=float(y)\n",
    "    \n",
    "        #metodo para la distancia , calcula la distancia entre (self) y otro objeto en un espacio euclidiano\n",
    "    def distancia(self,other):\n",
    "        x_sq=(self.x-other.x)**2\n",
    "        y_sq=(self.y-other.y)**2\n",
    "        return(x_sq+y_sq)**0.5\n",
    "    \n",
    "    def __str__(self):\n",
    "        return \" objeto coordinate <%0.2f,%0.2f>\"%(self.x,self.y)\n",
    "    \n",
    "    #Metodo para sumar coordenadas\n",
    "    \n",
    "    def __add__(self,other):\n",
    "        res_x=self.x+other.x\n",
    "        res_y=self.y+other.y\n",
    "        return Coordinate(res_x,res_y)\n",
    "    def __len__(self):\n",
    "        return 2"
   ]
  },
  {
   "cell_type": "markdown",
   "metadata": {},
   "source": [
    "# Ejercicio 5\n",
    "\n",
    "1. Cree una clase llamada ``Persona``, que asigne una cadena a la propiedad ``nombre`` y un número entero a la propiedad ``edad``. Al imprimir el objeto, debe concatenar tanto el nombre con la edad. \n",
    "2. A la clase anterior, añada un método para sumar dos objetos de tipo ``Persona``. El resultado debe ser ambos nombres concatenados y la suma de ambas edades.\n",
    "3. Modifique la clase para que el objeto tenga otra propiedad llamada ``altura``. Cuando se solicite la longitud del objeto, muestre la altura. También debe modificar el método de impresión para que muestre la altura. ¿Qué pasa con el método de suma?\n",
    "\n"
   ]
  },
  {
   "cell_type": "code",
   "execution_count": 8,
   "metadata": {},
   "outputs": [],
   "source": [
    "class Persona(object):\n",
    "    #atribiutos(datos,fnciones)\n",
    "    #metodo constructor\n",
    "    def __init__(self,nombre,edad,altura):\n",
    "        # Como queremos inicializar el objeto?\n",
    "        self.nombre=nombre\n",
    "        self.edad=edad\n",
    "        self.altura=altura\n",
    "    def __str__(self):\n",
    "        return \" El individuo <%s,%d,%d>\"%(self.nombre,self.edad,self.altura)\n",
    "    def __add__(self,other):\n",
    "        juntos=str(self.nombre+other.nombre) # El inciso 3 no modifica la propiedad suma , no se definio ninguna operacion.\n",
    "        edades=int(self.edad+other.edad)\n",
    "        return Persona(juntos,edades)\n",
    "    def __len__(self):\n",
    "        return(self.altura)\n",
    "        "
   ]
  },
  {
   "cell_type": "code",
   "execution_count": 14,
   "metadata": {},
   "outputs": [],
   "source": [
    "nombre=(\"juan\")\n",
    "edad=5\n",
    "altura=2\n",
    "individuo=Persona(nombre,edad,altura)\n",
    "\n",
    "\n"
   ]
  },
  {
   "cell_type": "code",
   "execution_count": 15,
   "metadata": {},
   "outputs": [
    {
     "name": "stdout",
     "output_type": "stream",
     "text": [
      " El individuo <juan,5,2>\n"
     ]
    },
    {
     "data": {
      "text/plain": [
       "__main__.Persona"
      ]
     },
     "execution_count": 15,
     "metadata": {},
     "output_type": "execute_result"
    }
   ],
   "source": [
    "print(individuo)\n",
    "type(individuo)"
   ]
  },
  {
   "cell_type": "code",
   "execution_count": null,
   "metadata": {},
   "outputs": [],
   "source": [
    "nombre2=\"Pedro\"\n",
    "edad=25\n",
    "individuo2=Persona(nombre2,edad)\n",
    "print(individuo2)\n",
    "type(individuo2)"
   ]
  },
  {
   "cell_type": "code",
   "execution_count": null,
   "metadata": {},
   "outputs": [],
   "source": [
    "Individuo3=individuo+individuo2\n",
    "print(Individuo3)"
   ]
  },
  {
   "cell_type": "code",
   "execution_count": 13,
   "metadata": {},
   "outputs": [
    {
     "data": {
      "text/plain": [
       "2"
      ]
     },
     "execution_count": 13,
     "metadata": {},
     "output_type": "execute_result"
    }
   ],
   "source": [
    "nombre=\"boby\"\n",
    "edad=45\n",
    "altura=2\n",
    "Individuo4=Persona(nombre,edad,altura)\n",
    "len(Individuo4)"
   ]
  },
  {
   "cell_type": "code",
   "execution_count": 31,
   "metadata": {},
   "outputs": [
    {
     "name": "stdout",
     "output_type": "stream",
     "text": [
      "glhjr#jd|\n"
     ]
    }
   ],
   "source": [
    "mensaje=\"hola soy diego\"\n",
    "l=list(mensaje)\n",
    "r=''\n",
    "for x  in range(len(l)):\n",
    "    r+=chr((ord(l[x])+3)) #ALGORITMO PARA LA ENCRIPTACION\n",
    "print(r)"
   ]
  },
  {
   "cell_type": "code",
   "execution_count": 41,
   "metadata": {},
   "outputs": [
    {
     "ename": "TypeError",
     "evalue": "Mensaje() takes no arguments",
     "output_type": "error",
     "traceback": [
      "\u001b[1;31m---------------------------------------------------------------------------\u001b[0m",
      "\u001b[1;31mTypeError\u001b[0m                                 Traceback (most recent call last)",
      "\u001b[1;32m<ipython-input-41-75e8e2822eea>\u001b[0m in \u001b[0;36m<module>\u001b[1;34m\u001b[0m\n\u001b[1;32m----> 1\u001b[1;33m \u001b[0menvio\u001b[0m\u001b[1;33m=\u001b[0m\u001b[0mMensaje\u001b[0m\u001b[1;33m(\u001b[0m\u001b[1;34m\"hola soy diego\"\u001b[0m\u001b[1;33m)\u001b[0m\u001b[1;33m\u001b[0m\u001b[1;33m\u001b[0m\u001b[0m\n\u001b[0m\u001b[0;32m      2\u001b[0m \u001b[1;33m\u001b[0m\u001b[0m\n\u001b[0;32m      3\u001b[0m \u001b[0menvio\u001b[0m\u001b[1;33m.\u001b[0m\u001b[0mencriptado\u001b[0m\u001b[1;33m(\u001b[0m\u001b[1;33m)\u001b[0m\u001b[1;33m\u001b[0m\u001b[1;33m\u001b[0m\u001b[0m\n",
      "\u001b[1;31mTypeError\u001b[0m: Mensaje() takes no arguments"
     ]
    }
   ],
   "source": [
    "envio = Mensaje(\"hola soy diego\")\n",
    "\n",
    "envio.encriptado()\n"
   ]
  },
  {
   "cell_type": "code",
   "execution_count": 9,
   "metadata": {},
   "outputs": [],
   "source": [
    " \n",
    "class Mensaje(object):\n",
    "    \n",
    "    def __init__(self,mensaje):\n",
    "        self.mensaje=str(mensaje)\n",
    "        \n",
    "    def encriptado(self):\n",
    "       \n",
    "        l=list(self.mensaje)\n",
    "        r=''\n",
    "        for x  in range(len(l)):\n",
    "            r+=chr((ord(l[x])+3))\n",
    "  \n",
    "        return r  \n",
    "            "
   ]
  },
  {
   "cell_type": "code",
   "execution_count": 10,
   "metadata": {},
   "outputs": [
    {
     "data": {
      "text/plain": [
       "'krod'"
      ]
     },
     "execution_count": 10,
     "metadata": {},
     "output_type": "execute_result"
    }
   ],
   "source": [
    "mensaje = Mensaje(\"hola\")\n",
    "mensaje.encriptado()"
   ]
  },
  {
   "cell_type": "markdown",
   "metadata": {},
   "source": [
    "**Canastas\n"
   ]
  },
  {
   "cell_type": "code",
   "execution_count": 11,
   "metadata": {},
   "outputs": [],
   "source": [
    "class canasta(object):\n",
    "    def __init__(self,ocio,cerveza,ceviche):\n",
    "        self.ocio=ocio\n",
    "        self.cerveza=cerveza\n",
    "        self.ceviche=ceviche\n",
    "        \n",
    "    def cobb(self):\n",
    "        return int(0.3*self.cerveza)*(ocio*0.6)*(ceviche*0.1)\n",
    "    def __lt__(self,other):\n",
    "        return(self.utilidad()<other.utilidad())\n",
    "    \n",
    "        \n",
    "        "
   ]
  },
  {
   "cell_type": "code",
   "execution_count": 13,
   "metadata": {},
   "outputs": [
    {
     "data": {
      "text/plain": [
       "False"
      ]
     },
     "execution_count": 13,
     "metadata": {},
     "output_type": "execute_result"
    }
   ],
   "source": [
    "Canasta_inicial=canasta(10,15,24)\n",
    "Canasta_2=canasta(7,8,9)\n",
    "Canasta_inicial==Canasta_2\n"
   ]
  }
 ],
 "metadata": {
  "kernelspec": {
   "display_name": "Python 3",
   "language": "python",
   "name": "python3"
  },
  "language_info": {
   "codemirror_mode": {
    "name": "ipython",
    "version": 3
   },
   "file_extension": ".py",
   "mimetype": "text/x-python",
   "name": "python",
   "nbconvert_exporter": "python",
   "pygments_lexer": "ipython3",
   "version": "3.7.4"
  }
 },
 "nbformat": 4,
 "nbformat_minor": 2
}
